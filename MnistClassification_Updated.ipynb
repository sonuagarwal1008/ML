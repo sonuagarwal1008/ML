{
 "cells": [
  {
   "cell_type": "markdown",
   "metadata": {},
   "source": [
    "# Mnist Classification using Tensorflow"
   ]
  },
  {
   "cell_type": "code",
   "execution_count": null,
   "metadata": {},
   "outputs": [],
   "source": [
    "import numpy as np\n",
    "import tensorflow as tf\n",
    "from tensorflow.examples.tutorials.mnist import input_data"
   ]
  },
  {
   "cell_type": "code",
   "execution_count": null,
   "metadata": {},
   "outputs": [],
   "source": [
    "import matplotlib.pyplot as plt"
   ]
  },
  {
   "cell_type": "code",
   "execution_count": null,
   "metadata": {},
   "outputs": [],
   "source": [
    "mnist = input_data.read_data_sets(\"MNIST_data/\", one_hot=True)"
   ]
  },
  {
   "cell_type": "code",
   "execution_count": null,
   "metadata": {},
   "outputs": [],
   "source": [
    "input_size = 784\n",
    "output_size = 10\n",
    "hiddenlayer_size = 200\n",
    "tf.reset_default_graph()\n",
    "# Build NN\n",
    "inputs = tf.placeholder(tf.float32, [None, input_size])\n",
    "targets = tf.placeholder(tf.float32, [None, output_size])\n",
    "\n",
    "weight1 = tf.get_variable(\"weight1\", [input_size, hiddenlayer_size])\n",
    "biases1 = tf.get_variable(\"biases1\", [hiddenlayer_size])\n",
    "output1 = tf.nn.relu(tf.matmul(inputs,weight1) + biases1)\n",
    "\n",
    "weight2 = tf.get_variable(\"weight2\", [hiddenlayer_size, hiddenlayer_size])\n",
    "biases2 = tf.get_variable(\"biases2\", [hiddenlayer_size])\n",
    "output2 = tf.nn.relu(tf.matmul(output1, weight2) + biases2)\n",
    "\n",
    "weight3 = tf.get_variable(\"weight3\", [hiddenlayer_size, output_size])\n",
    "biases3 = tf.get_variable(\"biases3\", [output_size])\n",
    "outputs = tf.matmul(output2,weight3) + biases3\n",
    "\n",
    "# define loss function\n",
    "loss = tf.nn.softmax_cross_entropy_with_logits(logits = outputs, labels = targets)\n",
    "mean_loss = tf.reduce_mean(loss)\n",
    "\n",
    "# optimizer\n",
    "optimize = tf.train.AdamOptimizer(learning_rate = 0.001).minimize(mean_loss)\n",
    "\n",
    "#pridiction accuracy using argmax\n",
    "eq_target = tf.equal(tf.argmax(outputs,1), tf.argmax(targets,1))\n",
    "accuracy = tf.reduce_mean(tf.cast(eq_target, tf.float32))\n",
    "\n",
    "#session preperation\n",
    "sess = tf.InteractiveSession()\n",
    "# variable initialization\n",
    "initializer = tf.global_variables_initializer()\n",
    "sess.run(initializer)\n",
    "\n",
    "#batching\n",
    "batch_size = 200\n",
    "batch_number = mnist.train._num_examples // batch_size\n",
    "\n",
    "#setup early stopping\n",
    "epochs = 15\n",
    "pre_validation_loss = 9999999.\n",
    "\n",
    "for epoch_counter in range(epochs):\n",
    "    epoch_loss = 0.\n",
    "    for batch_counter in range(batch_number):\n",
    "        input_batch, target_batch = mnist.train.next_batch(batch_size)\n",
    "        _, batch_loss = sess.run([optimize, mean_loss], feed_dict = {inputs: input_batch, targets: target_batch})\n",
    "        epoch_loss += batch_loss\n",
    "    \n",
    "    #mean training loss\n",
    "    epoch_loss /= batch_number\n",
    "    input_batch, target_batch = mnist.validation.next_batch(mnist.validation._num_examples)\n",
    "    validation_loss, validation_accuracy = sess.run([mean_loss,accuracy],feed_dict={inputs: input_batch, targets: target_batch})\n",
    "    \n",
    "    print \"epoch \"+ str(epoch_counter+1) + \".Training loss: \"+'{0:.3f}'.format(epoch_loss)+\".Validation loss: \" + '{0:.3f}'.format(validation_loss)+\".Validation Accuracy: \"+'{0:.2f}'.format(validation_accuracy*100.)+'%'\n",
    "    if validation_loss > pre_validation_loss:\n",
    "        break\n",
    "    pre_validation_loss = validation_loss\n",
    "    \n"
   ]
  },
  {
   "cell_type": "code",
   "execution_count": null,
   "metadata": {},
   "outputs": [],
   "source": [
    "#test model\n",
    "input_batch, target_batch = mnist.test.next_batch(mnist.test._num_examples)\n",
    "test_accuracy = sess.run([accuracy], \n",
    "    feed_dict={inputs: input_batch, targets: target_batch})\n",
    "\n",
    "# print (test_accuracy)\n",
    "test_accuracy_percent = test_accuracy[0] * 100.\n",
    "\n",
    "# Print the test accuracy formatted in percentages\n",
    "print('Test accuracy: '+'{0:.2f}'.format(test_accuracy_percent)+'%')"
   ]
  },
  {
   "cell_type": "code",
   "execution_count": null,
   "metadata": {},
   "outputs": [],
   "source": [
    "# final output by running prediction on test data set\n",
    "for x in range(100):\n",
    "    x_train = mnist.test.images[x,:].reshape(1,784)\n",
    "    y_train = mnist.test.labels[x,:]\n",
    "    label = y_train.argmax()\n",
    "    prediction = sess.run(outputs, feed_dict={inputs: x_train}).argmax()\n",
    "    if prediction!=label:\n",
    "        plt.title('prediction: %d label: %d' %(prediction, label))\n",
    "        plt.imshow(x_train.reshape([28,28]), cmap=plt.get_cmap('gray_r'))\n",
    "        plt.show()"
   ]
  },
  {
   "cell_type": "code",
   "execution_count": null,
   "metadata": {},
   "outputs": [],
   "source": []
  }
 ],
 "metadata": {
  "celltoolbar": "Raw Cell Format",
  "kernelspec": {
   "display_name": "Python 2",
   "language": "python",
   "name": "python2"
  },
  "language_info": {
   "codemirror_mode": {
    "name": "ipython",
    "version": 2
   },
   "file_extension": ".py",
   "mimetype": "text/x-python",
   "name": "python",
   "nbconvert_exporter": "python",
   "pygments_lexer": "ipython2",
   "version": "2.7.12"
  }
 },
 "nbformat": 4,
 "nbformat_minor": 2
}
